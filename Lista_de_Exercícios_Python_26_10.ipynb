{
  "nbformat": 4,
  "nbformat_minor": 0,
  "metadata": {
    "colab": {
      "provenance": [],
      "include_colab_link": true
    },
    "kernelspec": {
      "name": "python3",
      "display_name": "Python 3"
    },
    "language_info": {
      "name": "python"
    }
  },
  "cells": [
    {
      "cell_type": "markdown",
      "metadata": {
        "id": "view-in-github",
        "colab_type": "text"
      },
      "source": [
        "<a href=\"https://colab.research.google.com/github/BryanAlmeida016/Python/blob/main/Lista_de_Exerc%C3%ADcios_Python_26_10.ipynb\" target=\"_parent\"><img src=\"https://colab.research.google.com/assets/colab-badge.svg\" alt=\"Open In Colab\"/></a>"
      ]
    },
    {
      "cell_type": "markdown",
      "source": [
        "***LISTA DE EXERCÍCIOS DO DIA 25/10/2023***"
      ],
      "metadata": {
        "id": "JZkbAcr2MqLY"
      }
    },
    {
      "cell_type": "markdown",
      "source": [
        "Aluno: Bryan Almeida de Moraes          \n",
        "Série: 1ºC (Turma A)"
      ],
      "metadata": {
        "id": "OtRQJ45JOllG"
      }
    },
    {
      "cell_type": "markdown",
      "source": [
        "1.Faça um algoritmo que escreva na tela os números de um número inicial a um número final. Os números inicial e final devem ser informados pelo usuário;"
      ],
      "metadata": {
        "id": "d5yMIDBXMt0g"
      }
    },
    {
      "cell_type": "code",
      "source": [
        "numero_inicial = int(input(\"Digite o número inicial: \"))\n",
        "numero_final = int(input(\"Digite o número final: \"))\n",
        "\n",
        "if numero_inicial <= numero_final:\n",
        "    for numero in range(numero_inicial, numero_final + 1):\n",
        "        print(numero)\n",
        "else:\n",
        "    print(\"O número inicial deve ser menor ou igual ao número final.\")\n"
      ],
      "metadata": {
        "colab": {
          "base_uri": "https://localhost:8080/"
        },
        "id": "NEdEOUWCOOsP",
        "outputId": "288d7171-993d-4ab0-f3a3-d9c2384ae7d8"
      },
      "execution_count": 1,
      "outputs": [
        {
          "output_type": "stream",
          "name": "stdout",
          "text": [
            "Digite o número inicial: 4\n",
            "Digite o número final: 8\n",
            "4\n",
            "5\n",
            "6\n",
            "7\n",
            "8\n"
          ]
        }
      ]
    },
    {
      "cell_type": "markdown",
      "source": [
        "2.Escrever um algoritmo que imprima a tabuada de um número informado pelo usuário;\n",
        "\n",
        "Exemplo: 4\n",
        "\n",
        "4X1=4\n",
        "4X2=8\n",
        "4X3=12\n",
        "4X4 = 16\n",
        ".\n",
        ".\n",
        "."
      ],
      "metadata": {
        "id": "eLEVrcudNssO"
      }
    },
    {
      "cell_type": "code",
      "source": [
        "numero = int(input(\"Digite o número para a tabuada: \"))\n",
        "\n",
        "for i in range(1, 11):\n",
        "    resultado = numero * i\n",
        "    print(f\"{numero} x {i} = {resultado}\")\n"
      ],
      "metadata": {
        "colab": {
          "base_uri": "https://localhost:8080/"
        },
        "id": "Szdn3mtHON6-",
        "outputId": "a3e4bea2-4ec7-464f-e66e-23de3d842980"
      },
      "execution_count": 2,
      "outputs": [
        {
          "output_type": "stream",
          "name": "stdout",
          "text": [
            "Digite o número para a tabuada: 5\n",
            "5 x 1 = 5\n",
            "5 x 2 = 10\n",
            "5 x 3 = 15\n",
            "5 x 4 = 20\n",
            "5 x 5 = 25\n",
            "5 x 6 = 30\n",
            "5 x 7 = 35\n",
            "5 x 8 = 40\n",
            "5 x 9 = 45\n",
            "5 x 10 = 50\n"
          ]
        }
      ]
    },
    {
      "cell_type": "markdown",
      "source": [
        "3.Escrever um algoritmo que gera e escreve os números ímpares entre 100 e 200;"
      ],
      "metadata": {
        "id": "-2IqEYufNxg-"
      }
    },
    {
      "cell_type": "code",
      "source": [
        "for numero in range(101, 200, 2):\n",
        "    print(numero)\n"
      ],
      "metadata": {
        "colab": {
          "base_uri": "https://localhost:8080/"
        },
        "id": "tfJ3pSy1ONNO",
        "outputId": "8b9328b5-b0bf-4c8b-b7a7-2d5bd652bba2"
      },
      "execution_count": 3,
      "outputs": [
        {
          "output_type": "stream",
          "name": "stdout",
          "text": [
            "101\n",
            "103\n",
            "105\n",
            "107\n",
            "109\n",
            "111\n",
            "113\n",
            "115\n",
            "117\n",
            "119\n",
            "121\n",
            "123\n",
            "125\n",
            "127\n",
            "129\n",
            "131\n",
            "133\n",
            "135\n",
            "137\n",
            "139\n",
            "141\n",
            "143\n",
            "145\n",
            "147\n",
            "149\n",
            "151\n",
            "153\n",
            "155\n",
            "157\n",
            "159\n",
            "161\n",
            "163\n",
            "165\n",
            "167\n",
            "169\n",
            "171\n",
            "173\n",
            "175\n",
            "177\n",
            "179\n",
            "181\n",
            "183\n",
            "185\n",
            "187\n",
            "189\n",
            "191\n",
            "193\n",
            "195\n",
            "197\n",
            "199\n"
          ]
        }
      ]
    },
    {
      "cell_type": "markdown",
      "source": [
        "4.Faça um programa que solicite cod da conta(exemplo: 122345) e senha(exemplo: 1234), o programa deve verificar o usuário e senha e tentar até três vezes para receber a senha correta, caso contrario o cartão é cancelado se digitar errado 3 vezes."
      ],
      "metadata": {
        "id": "3n18UZouN3SB"
      }
    },
    {
      "cell_type": "code",
      "source": [
        "codigo_da_conta_correta = \"122345\"\n",
        "senha_correta = \"1234\"\n",
        "tentativas = 3\n",
        "\n",
        "while tentativas > 0:\n",
        "    codigo_da_conta = input(\"Digite o código da conta: \")\n",
        "    senha = input(\"Digite a senha: \")\n",
        "\n",
        "    if codigo_da_conta == codigo_da_conta_correta and senha == senha_correta:\n",
        "        print(\"Acesso concedido. Bem-vindo à sua conta.\")\n",
        "        break\n",
        "    else:\n",
        "        print(\"Código da conta ou senha incorretos. Tente novamente.\")\n",
        "        tentativas -= 1\n",
        "\n",
        "if tentativas == 0:\n",
        "    print(\"Cartão cancelado devido a múltiplas tentativas incorretas.\")\n"
      ],
      "metadata": {
        "colab": {
          "base_uri": "https://localhost:8080/"
        },
        "id": "lpSK5C99OMr_",
        "outputId": "fae0965b-37ae-4a78-c9f2-65f4ad6659e3"
      },
      "execution_count": 4,
      "outputs": [
        {
          "output_type": "stream",
          "name": "stdout",
          "text": [
            "Digite o código da conta: 122345\n",
            "Digite a senha: 1234\n",
            "Acesso concedido. Bem-vindo à sua conta.\n"
          ]
        }
      ]
    },
    {
      "cell_type": "markdown",
      "source": [
        "5.Depois do Código anterior, caso o usuário digite o usuário e senha corretos o programa deve da a oportunidade do usuario escolher a operação a ser feita: Saque, depósito ou ver saldo,\n",
        "caso escolha saque ==> subtraia o valor do saque do seu saldo,\n",
        "caso escolha depósito ==> some o valor do depósito ao seu saldo,\n",
        "caso escolha saldo ==> mostre o saldo.\n",
        "caso escolha sair ==> sai do programa"
      ],
      "metadata": {
        "id": "qVgltV7DN_cO"
      }
    },
    {
      "cell_type": "code",
      "source": [
        "codigo_da_conta_correta = \"122345\"\n",
        "senha_correta = \"1234\"\n",
        "saldo = 1000.0\n",
        "tentativas = 3\n",
        "\n",
        "while tentativas > 0:\n",
        "    codigo_da_conta = input(\"Digite o código da conta: \")\n",
        "    senha = input(\"Digite a senha: \")\n",
        "\n",
        "    if codigo_da_conta == codigo_da_conta_correta and senha == senha_correta:\n",
        "        print(\"Acesso concedido. Bem-vindo à sua conta.\")\n",
        "        while True:\n",
        "            print(\"\\nOpções:\")\n",
        "            print(\"1. Saque\")\n",
        "            print(\"2. Depósito\")\n",
        "            print(\"3. Ver saldo\")\n",
        "            print(\"4. Sair\")\n",
        "            opcao = input(\"Escolha uma opção (1/2/3/4): \")\n",
        "\n",
        "            if opcao == \"1\":\n",
        "                valor_saque = float(input(\"Digite o valor do saque: \"))\n",
        "                if valor_saque > saldo:\n",
        "                    print(\"Saldo insuficiente. Operação não realizada.\")\n",
        "                else:\n",
        "                    saldo -= valor_saque\n",
        "                    print(f\"Saque de R${valor_saque} realizado com sucesso.\")\n",
        "            elif opcao == \"2\":\n",
        "                valor_deposito = float(input(\"Digite o valor do depósito: \"))\n",
        "                saldo += valor_deposito\n",
        "                print(f\"Depósito de R${valor_deposito} realizado com sucesso.\")\n",
        "            elif opcao == \"3\":\n",
        "                print(f\"Saldo atual: R${saldo}\")\n",
        "            elif opcao == \"4\":\n",
        "                print(\"Obrigado por usar nosso serviço. Volte sempre!\")\n",
        "                break\n",
        "            else:\n",
        "                print(\"Opção inválida. Tente novamente.\")\n",
        "    else:\n",
        "        print(\"Código da conta ou senha incorretos. Tente novamente.\")\n",
        "        tentativas -= 1\n",
        "\n",
        "if tentativas == 0:\n",
        "    print(\"Cartão cancelado devido a múltiplas tentativas incorretas.\")\n"
      ],
      "metadata": {
        "colab": {
          "base_uri": "https://localhost:8080/"
        },
        "id": "44WfyE8WOMLQ",
        "outputId": "07b9d392-4ff5-4056-c975-a615f2030399"
      },
      "execution_count": 6,
      "outputs": [
        {
          "output_type": "stream",
          "name": "stdout",
          "text": [
            "Digite o código da conta: 122222\n",
            "Digite a senha: 22222\n",
            "Código da conta ou senha incorretos. Tente novamente.\n",
            "Digite o código da conta: 222222\n",
            "Digite a senha: 222222\n",
            "Código da conta ou senha incorretos. Tente novamente.\n",
            "Digite o código da conta: 222222\n",
            "Digite a senha: 222222\n",
            "Código da conta ou senha incorretos. Tente novamente.\n",
            "Cartão cancelado devido a múltiplas tentativas incorretas.\n"
          ]
        }
      ]
    },
    {
      "cell_type": "markdown",
      "source": [
        "6.Escreva um algoritmo que leia valores inteiros e encontre o maior e o menor deles. Termine a leitura se o usuário digitar zero (0);"
      ],
      "metadata": {
        "id": "8RJYww3nOGjX"
      }
    },
    {
      "cell_type": "code",
      "source": [
        "maior = menor = None\n",
        "\n",
        "while True:\n",
        "    valor = int(input(\"Digite um valor inteiro (ou 0 para sair): \"))\n",
        "\n",
        "    if valor == 0:\n",
        "        if maior is None:\n",
        "            print(\"Nenhum valor foi inserido.\")\n",
        "        else:\n",
        "            print(f\"O maior valor inserido foi: {maior}\")\n",
        "            print(f\"O menor valor inserido foi: {menor}\")\n",
        "        break\n",
        "\n",
        "    if maior is None or valor > maior:\n",
        "        maior = valor\n",
        "\n",
        "    if menor is None or valor < menor:\n",
        "        menor = valor\n"
      ],
      "metadata": {
        "colab": {
          "base_uri": "https://localhost:8080/"
        },
        "id": "LqmAMgE5OLdX",
        "outputId": "f13cd5f1-c663-403b-890c-9e6f65e2172b"
      },
      "execution_count": 7,
      "outputs": [
        {
          "output_type": "stream",
          "name": "stdout",
          "text": [
            "Digite um valor inteiro (ou 0 para sair): 8\n",
            "Digite um valor inteiro (ou 0 para sair): 10\n",
            "Digite um valor inteiro (ou 0 para sair): 50\n",
            "Digite um valor inteiro (ou 0 para sair): 3\n",
            "Digite um valor inteiro (ou 0 para sair): 5\n",
            "Digite um valor inteiro (ou 0 para sair): 7\n",
            "Digite um valor inteiro (ou 0 para sair): 8\n",
            "Digite um valor inteiro (ou 0 para sair): 6\n",
            "Digite um valor inteiro (ou 0 para sair): 4\n",
            "Digite um valor inteiro (ou 0 para sair): 1\n",
            "Digite um valor inteiro (ou 0 para sair): 9\n",
            "Digite um valor inteiro (ou 0 para sair): 45\n",
            "Digite um valor inteiro (ou 0 para sair): 66\n",
            "Digite um valor inteiro (ou 0 para sair): 20\n",
            "Digite um valor inteiro (ou 0 para sair): 0\n",
            "O maior valor inserido foi: 66\n",
            "O menor valor inserido foi: 1\n"
          ]
        }
      ]
    }
  ]
}