{
  "nbformat": 4,
  "nbformat_minor": 0,
  "metadata": {
    "anaconda-cloud": {},
    "kernelspec": {
      "display_name": "Python 3",
      "language": "python",
      "name": "python3"
    },
    "language_info": {
      "codemirror_mode": {
        "name": "ipython",
        "version": 3
      },
      "file_extension": ".py",
      "mimetype": "text/x-python",
      "name": "python",
      "nbconvert_exporter": "python",
      "pygments_lexer": "ipython3",
      "version": "3.8.5"
    },
    "colab": {
      "provenance": [],
      "include_colab_link": true
    }
  },
  "cells": [
    {
      "cell_type": "markdown",
      "metadata": {
        "id": "view-in-github",
        "colab_type": "text"
      },
      "source": [
        "<a href=\"https://colab.research.google.com/github/BryanAlmeida016/Python/blob/main/4_Python_2_Manipula%C3%A7%C3%A3o_de_Strings.ipynb\" target=\"_parent\"><img src=\"https://colab.research.google.com/assets/colab-badge.svg\" alt=\"Open In Colab\"/></a>"
      ]
    },
    {
      "cell_type": "markdown",
      "metadata": {
        "id": "dNXwjNNBmJTv"
      },
      "source": [
        "# <font color='blue'>Manipulação de Strings</font>\n",
        "\n"
      ]
    },
    {
      "cell_type": "markdown",
      "metadata": {
        "id": "Bmzfk0ZkmJT7"
      },
      "source": [
        "## Strings"
      ]
    },
    {
      "cell_type": "markdown",
      "metadata": {
        "id": "bU84UuLMmJT9"
      },
      "source": [
        "### Criando uma String\n",
        "Para criar uma string em Python você pode usar aspas simples ou duplas. Por exemplo:"
      ]
    },
    {
      "cell_type": "code",
      "metadata": {
        "id": "4rB5fxOEmJT_",
        "outputId": "6f3614b0-3486-4dc3-e012-8320bed67737",
        "colab": {
          "base_uri": "https://localhost:8080/",
          "height": 35
        }
      },
      "source": [
        "# Uma única palavra\n",
        "'Oi'"
      ],
      "execution_count": null,
      "outputs": [
        {
          "output_type": "execute_result",
          "data": {
            "text/plain": [
              "'Oi'"
            ],
            "application/vnd.google.colaboratory.intrinsic+json": {
              "type": "string"
            }
          },
          "metadata": {},
          "execution_count": 1
        }
      ]
    },
    {
      "cell_type": "code",
      "metadata": {
        "id": "j_2YUcQKmJUE",
        "outputId": "ee29c407-b63f-427f-fb25-e5e30bb5d021",
        "colab": {
          "base_uri": "https://localhost:8080/",
          "height": 35
        }
      },
      "source": [
        "# Uma frase\n",
        "'Criando uma string em Python'"
      ],
      "execution_count": null,
      "outputs": [
        {
          "output_type": "execute_result",
          "data": {
            "text/plain": [
              "'Criando uma string em Python'"
            ],
            "application/vnd.google.colaboratory.intrinsic+json": {
              "type": "string"
            }
          },
          "metadata": {},
          "execution_count": 2
        }
      ]
    },
    {
      "cell_type": "code",
      "metadata": {
        "id": "fS-AgwiemJUG",
        "outputId": "b5eef151-488a-49e5-fbad-3de727eab9dd",
        "colab": {
          "base_uri": "https://localhost:8080/",
          "height": 35
        }
      },
      "source": [
        "# Podemos usar aspas duplas\n",
        "\"Podemos usar aspas duplas ou simples para strings em Python\""
      ],
      "execution_count": null,
      "outputs": [
        {
          "output_type": "execute_result",
          "data": {
            "text/plain": [
              "'Podemos usar aspas duplas ou simples para strings em Python'"
            ],
            "application/vnd.google.colaboratory.intrinsic+json": {
              "type": "string"
            }
          },
          "metadata": {},
          "execution_count": 3
        }
      ]
    },
    {
      "cell_type": "code",
      "metadata": {
        "id": "7TFfjuRxmJUH",
        "outputId": "57019cc1-cafc-4aab-ffa2-94515002c64a",
        "colab": {
          "base_uri": "https://localhost:8080/",
          "height": 35
        }
      },
      "source": [
        "# Você pode combinar aspas duplas e simples\n",
        "\"Testando strings em 'Python'\""
      ],
      "execution_count": null,
      "outputs": [
        {
          "output_type": "execute_result",
          "data": {
            "text/plain": [
              "\"Testando strings em 'Python'\""
            ],
            "application/vnd.google.colaboratory.intrinsic+json": {
              "type": "string"
            }
          },
          "metadata": {},
          "execution_count": 4
        }
      ]
    },
    {
      "cell_type": "markdown",
      "metadata": {
        "id": "KWuD6mE_mJUK"
      },
      "source": [
        "### Imprimindo uma String"
      ]
    },
    {
      "cell_type": "code",
      "metadata": {
        "id": "PL8v8VT8mJUL",
        "outputId": "901911c1-75e1-4803-fff2-fa3f10822662",
        "colab": {
          "base_uri": "https://localhost:8080/"
        }
      },
      "source": [
        "print ('Testando Strings em Python')"
      ],
      "execution_count": null,
      "outputs": [
        {
          "output_type": "stream",
          "name": "stdout",
          "text": [
            "Testando Strings em Python\n"
          ]
        }
      ]
    },
    {
      "cell_type": "code",
      "metadata": {
        "id": "RplK9VzUmJUN",
        "outputId": "88b93d59-f52b-48c3-e7f7-b01984985a83",
        "colab": {
          "base_uri": "https://localhost:8080/"
        }
      },
      "source": [
        "print ('Testando \\nStrings \\nem \\nPython')"
      ],
      "execution_count": null,
      "outputs": [
        {
          "output_type": "stream",
          "name": "stdout",
          "text": [
            "Testando \n",
            "Strings \n",
            "em \n",
            "Python\n"
          ]
        }
      ]
    },
    {
      "cell_type": "code",
      "metadata": {
        "id": "42sCGaV0mJUP",
        "outputId": "25a95790-5d31-4443-c799-295633492d24",
        "colab": {
          "base_uri": "https://localhost:8080/"
        }
      },
      "source": [
        "print ('\\n')"
      ],
      "execution_count": null,
      "outputs": [
        {
          "output_type": "stream",
          "name": "stdout",
          "text": [
            "\n",
            "\n"
          ]
        }
      ]
    },
    {
      "cell_type": "markdown",
      "metadata": {
        "id": "KmOWhBzkmJUQ"
      },
      "source": [
        "### Indexando Strings"
      ]
    },
    {
      "cell_type": "code",
      "metadata": {
        "id": "xBKueDbSmJUT"
      },
      "source": [
        "# Atribuindo uma string\n",
        "s = 'Etec MCM'"
      ],
      "execution_count": null,
      "outputs": []
    },
    {
      "cell_type": "code",
      "metadata": {
        "id": "3FFA2P3smJUU",
        "outputId": "c633baf5-b2ef-4ae7-de80-416db7b9f354",
        "colab": {
          "base_uri": "https://localhost:8080/"
        }
      },
      "source": [
        "print(s)"
      ],
      "execution_count": null,
      "outputs": [
        {
          "output_type": "stream",
          "name": "stdout",
          "text": [
            "Etec MCM\n"
          ]
        }
      ]
    },
    {
      "cell_type": "code",
      "metadata": {
        "id": "1-3429BAmJUV",
        "outputId": "52ff1a64-7fbc-48e4-c640-8c9fcb4a353c",
        "colab": {
          "base_uri": "https://localhost:8080/",
          "height": 35
        }
      },
      "source": [
        "# Primeiro elemento da string.\n",
        "s[0]"
      ],
      "execution_count": null,
      "outputs": [
        {
          "output_type": "execute_result",
          "data": {
            "text/plain": [
              "'E'"
            ],
            "application/vnd.google.colaboratory.intrinsic+json": {
              "type": "string"
            }
          },
          "metadata": {},
          "execution_count": 10
        }
      ]
    },
    {
      "cell_type": "code",
      "metadata": {
        "id": "b3WVVN7RmJUX",
        "outputId": "847d021d-4cda-4f0a-8557-46507c1a1e47",
        "colab": {
          "base_uri": "https://localhost:8080/",
          "height": 35
        }
      },
      "source": [
        "s[1]"
      ],
      "execution_count": null,
      "outputs": [
        {
          "output_type": "execute_result",
          "data": {
            "text/plain": [
              "'t'"
            ],
            "application/vnd.google.colaboratory.intrinsic+json": {
              "type": "string"
            }
          },
          "metadata": {},
          "execution_count": 11
        }
      ]
    },
    {
      "cell_type": "code",
      "metadata": {
        "id": "0B75NgxfmJUY",
        "outputId": "a0853a27-bb26-4e54-ee1d-d2ec72c265c9",
        "colab": {
          "base_uri": "https://localhost:8080/",
          "height": 35
        }
      },
      "source": [
        "s[2]"
      ],
      "execution_count": null,
      "outputs": [
        {
          "output_type": "execute_result",
          "data": {
            "text/plain": [
              "'e'"
            ],
            "application/vnd.google.colaboratory.intrinsic+json": {
              "type": "string"
            }
          },
          "metadata": {},
          "execution_count": 12
        }
      ]
    },
    {
      "cell_type": "code",
      "metadata": {
        "id": "08NxRkpRmJUZ",
        "outputId": "ecdc71d2-a251-41c6-ea2e-9136cb6401e3",
        "colab": {
          "base_uri": "https://localhost:8080/",
          "height": 35
        }
      },
      "source": [
        "s[3]"
      ],
      "execution_count": null,
      "outputs": [
        {
          "output_type": "execute_result",
          "data": {
            "text/plain": [
              "'c'"
            ],
            "application/vnd.google.colaboratory.intrinsic+json": {
              "type": "string"
            }
          },
          "metadata": {},
          "execution_count": 13
        }
      ]
    },
    {
      "cell_type": "markdown",
      "metadata": {
        "id": "DmRrJJMimJUa"
      },
      "source": [
        "Podemos usar um : para executar um slicing que faz a leitura de tudo até um ponto designado. Por exemplo:"
      ]
    },
    {
      "cell_type": "code",
      "metadata": {
        "id": "SOKh__vmmJUb",
        "outputId": "1a7c5ab4-d739-433d-e637-b4aaf2aac52e",
        "colab": {
          "base_uri": "https://localhost:8080/",
          "height": 35
        }
      },
      "source": [
        "# Retorna todos os elementos da string, começando pela posição (lembre-se que Python começa a indexação pela posição 0),\n",
        "# até o fim da string.\n",
        "s[1:]"
      ],
      "execution_count": null,
      "outputs": [
        {
          "output_type": "execute_result",
          "data": {
            "text/plain": [
              "'tec MCM'"
            ],
            "application/vnd.google.colaboratory.intrinsic+json": {
              "type": "string"
            }
          },
          "metadata": {},
          "execution_count": 14
        }
      ]
    },
    {
      "cell_type": "code",
      "metadata": {
        "id": "EcN5KM0WmJUg",
        "outputId": "a11691d2-4e79-4a38-a64b-ad90c204e4bd",
        "colab": {
          "base_uri": "https://localhost:8080/",
          "height": 35
        }
      },
      "source": [
        "# A string original permanece inalterada\n",
        "s"
      ],
      "execution_count": null,
      "outputs": [
        {
          "output_type": "execute_result",
          "data": {
            "text/plain": [
              "'Etec MCM'"
            ],
            "application/vnd.google.colaboratory.intrinsic+json": {
              "type": "string"
            }
          },
          "metadata": {},
          "execution_count": 15
        }
      ]
    },
    {
      "cell_type": "code",
      "metadata": {
        "id": "RxaG6OovmJUh",
        "outputId": "9444a966-28b6-4242-8baa-71dd264ca36d",
        "colab": {
          "base_uri": "https://localhost:8080/",
          "height": 35
        }
      },
      "source": [
        "# Retorna tudo até a posição 4\n",
        "s[:4]"
      ],
      "execution_count": null,
      "outputs": [
        {
          "output_type": "execute_result",
          "data": {
            "text/plain": [
              "'Etec'"
            ],
            "application/vnd.google.colaboratory.intrinsic+json": {
              "type": "string"
            }
          },
          "metadata": {},
          "execution_count": 16
        }
      ]
    },
    {
      "cell_type": "code",
      "metadata": {
        "id": "wvbbmTxTmJUi",
        "outputId": "8a4f7b4f-4985-4e9c-ecf8-5d4ba9aa44f9",
        "colab": {
          "base_uri": "https://localhost:8080/",
          "height": 35
        }
      },
      "source": [
        "s[:]"
      ],
      "execution_count": null,
      "outputs": [
        {
          "output_type": "execute_result",
          "data": {
            "text/plain": [
              "'Etec MCM'"
            ],
            "application/vnd.google.colaboratory.intrinsic+json": {
              "type": "string"
            }
          },
          "metadata": {},
          "execution_count": 17
        }
      ]
    },
    {
      "cell_type": "code",
      "metadata": {
        "id": "YPbjgTujmJUl",
        "outputId": "2b9ce88d-b0c9-458f-844a-e56ca81c7771",
        "colab": {
          "base_uri": "https://localhost:8080/",
          "height": 35
        }
      },
      "source": [
        "# Nós também podemos usar a indexação negativa e ler de trás para frente.\n",
        "s[-1]"
      ],
      "execution_count": null,
      "outputs": [
        {
          "output_type": "execute_result",
          "data": {
            "text/plain": [
              "'M'"
            ],
            "application/vnd.google.colaboratory.intrinsic+json": {
              "type": "string"
            }
          },
          "metadata": {},
          "execution_count": 18
        }
      ]
    },
    {
      "cell_type": "code",
      "metadata": {
        "id": "nPe8EZEemJUm",
        "outputId": "2c009950-f53f-4536-c87f-cf927db756bf",
        "colab": {
          "base_uri": "https://localhost:8080/",
          "height": 35
        }
      },
      "source": [
        "# Retornar tudo, exceto a última letra\n",
        "s[:-1]"
      ],
      "execution_count": null,
      "outputs": [
        {
          "output_type": "execute_result",
          "data": {
            "text/plain": [
              "'Etec MC'"
            ],
            "application/vnd.google.colaboratory.intrinsic+json": {
              "type": "string"
            }
          },
          "metadata": {},
          "execution_count": 19
        }
      ]
    },
    {
      "cell_type": "markdown",
      "metadata": {
        "id": "DL__siqOmJUn"
      },
      "source": [
        "Nós também podemos usar a notação de índice e fatiar a string em pedaços específicos (o padrão é 1). Por exemplo, podemos usar dois pontos duas vezes em uma linha e, em seguida, um número que especifica a frequência para retornar elementos. Por exemplo:"
      ]
    },
    {
      "cell_type": "code",
      "metadata": {
        "id": "pLuph-8nmJUn",
        "outputId": "325fe3d0-1bd1-40d3-ce4c-e28b88930186",
        "colab": {
          "base_uri": "https://localhost:8080/",
          "height": 35
        }
      },
      "source": [
        "s[::1]"
      ],
      "execution_count": null,
      "outputs": [
        {
          "output_type": "execute_result",
          "data": {
            "text/plain": [
              "'Etec MCM'"
            ],
            "application/vnd.google.colaboratory.intrinsic+json": {
              "type": "string"
            }
          },
          "metadata": {},
          "execution_count": 20
        }
      ]
    },
    {
      "cell_type": "code",
      "metadata": {
        "id": "NcrNl7q9mJUo",
        "outputId": "bf94c3b7-4a3d-48c6-c2f9-de309257fc99",
        "colab": {
          "base_uri": "https://localhost:8080/",
          "height": 35
        }
      },
      "source": [
        "s[::2]"
      ],
      "execution_count": null,
      "outputs": [
        {
          "output_type": "execute_result",
          "data": {
            "text/plain": [
              "'Ee C'"
            ],
            "application/vnd.google.colaboratory.intrinsic+json": {
              "type": "string"
            }
          },
          "metadata": {},
          "execution_count": 21
        }
      ]
    },
    {
      "cell_type": "code",
      "metadata": {
        "id": "0kETnPcRmJUp",
        "outputId": "285fdc60-c69c-412d-f7f7-d03310bd841b",
        "colab": {
          "base_uri": "https://localhost:8080/",
          "height": 35
        }
      },
      "source": [
        "s[::-1]"
      ],
      "execution_count": null,
      "outputs": [
        {
          "output_type": "execute_result",
          "data": {
            "text/plain": [
              "'MCM cetE'"
            ],
            "application/vnd.google.colaboratory.intrinsic+json": {
              "type": "string"
            }
          },
          "metadata": {},
          "execution_count": 22
        }
      ]
    },
    {
      "cell_type": "markdown",
      "metadata": {
        "id": "rX1TnHPBmJUq"
      },
      "source": [
        "### Propriedades de Strings"
      ]
    },
    {
      "cell_type": "code",
      "metadata": {
        "id": "LbobGCURmJUq",
        "outputId": "f04e4f0e-0792-423b-a514-113ca930faf9",
        "colab": {
          "base_uri": "https://localhost:8080/",
          "height": 35
        }
      },
      "source": [
        "s"
      ],
      "execution_count": null,
      "outputs": [
        {
          "output_type": "execute_result",
          "data": {
            "text/plain": [
              "'Etec MCM'"
            ],
            "application/vnd.google.colaboratory.intrinsic+json": {
              "type": "string"
            }
          },
          "metadata": {},
          "execution_count": 23
        }
      ]
    },
    {
      "cell_type": "code",
      "metadata": {
        "id": "_RtMc-FnmJUr",
        "outputId": "160bc85c-0ad5-4e37-ca7e-e570517390f4",
        "colab": {
          "base_uri": "https://localhost:8080/",
          "height": 193
        }
      },
      "source": [
        "# Alterando um caracter\n",
        "s[0] = 'x'"
      ],
      "execution_count": null,
      "outputs": [
        {
          "output_type": "error",
          "ename": "TypeError",
          "evalue": "ignored",
          "traceback": [
            "\u001b[0;31m---------------------------------------------------------------------------\u001b[0m",
            "\u001b[0;31mTypeError\u001b[0m                                 Traceback (most recent call last)",
            "\u001b[0;32m<ipython-input-25-ca6139e3d4b7>\u001b[0m in \u001b[0;36m<cell line: 2>\u001b[0;34m()\u001b[0m\n\u001b[1;32m      1\u001b[0m \u001b[0;31m# Alterando um caracter\u001b[0m\u001b[0;34m\u001b[0m\u001b[0;34m\u001b[0m\u001b[0m\n\u001b[0;32m----> 2\u001b[0;31m \u001b[0ms\u001b[0m\u001b[0;34m[\u001b[0m\u001b[0;36m0\u001b[0m\u001b[0;34m]\u001b[0m \u001b[0;34m=\u001b[0m \u001b[0;34m'4'\u001b[0m\u001b[0;34m\u001b[0m\u001b[0;34m\u001b[0m\u001b[0m\n\u001b[0m",
            "\u001b[0;31mTypeError\u001b[0m: 'str' object does not support item assignment"
          ]
        }
      ]
    },
    {
      "cell_type": "code",
      "metadata": {
        "id": "e1XE6r-PmJUr",
        "outputId": "63dda826-3739-47da-c0cf-1272e4d32885"
      },
      "source": [
        "# Concatenando strings\n",
        "s + ' é a melhor escola de Ribeirão Pires!'"
      ],
      "execution_count": null,
      "outputs": [
        {
          "data": {
            "text/plain": [
              "'Etec MCM é a melhor escola de Ribeirão Pires!'"
            ]
          },
          "execution_count": 23,
          "metadata": {},
          "output_type": "execute_result"
        }
      ]
    },
    {
      "cell_type": "code",
      "metadata": {
        "id": "h0-H4CimmJUs",
        "outputId": "fca10593-7b94-4ff2-eef9-c238255e2699"
      },
      "source": [
        "s"
      ],
      "execution_count": null,
      "outputs": [
        {
          "data": {
            "text/plain": [
              "'Etec MCM'"
            ]
          },
          "execution_count": 24,
          "metadata": {},
          "output_type": "execute_result"
        }
      ]
    },
    {
      "cell_type": "code",
      "metadata": {
        "id": "rUn6rMQ6mJUt"
      },
      "source": [
        "s = s + ' é a melhor escola de Ribeirão Pires!'"
      ],
      "execution_count": null,
      "outputs": []
    },
    {
      "cell_type": "code",
      "metadata": {
        "id": "Wo0TIZAzmJUu",
        "outputId": "fe829f0e-dafc-4c7d-d029-7d06f11762c7"
      },
      "source": [
        "print(s)"
      ],
      "execution_count": null,
      "outputs": [
        {
          "name": "stdout",
          "output_type": "stream",
          "text": [
            "Etec MCM é a melhor escola de Ribeirão Pires!\n"
          ]
        }
      ]
    },
    {
      "cell_type": "code",
      "metadata": {
        "id": "Dh537awnmJUv"
      },
      "source": [
        "# Podemos usar o símbolo de multiplicação para criar repetição!\n",
        "letra = 'w'"
      ],
      "execution_count": null,
      "outputs": []
    },
    {
      "cell_type": "code",
      "metadata": {
        "id": "03qSLdyAmJUv",
        "outputId": "ed5b010e-398d-4d7d-f711-a8b35f9001f5"
      },
      "source": [
        "letra * 3"
      ],
      "execution_count": null,
      "outputs": [
        {
          "data": {
            "text/plain": [
              "'www'"
            ]
          },
          "execution_count": 28,
          "metadata": {},
          "output_type": "execute_result"
        }
      ]
    },
    {
      "cell_type": "markdown",
      "metadata": {
        "id": "1aGg66C0mJUw"
      },
      "source": [
        "### Funções Built-in de Strings"
      ]
    },
    {
      "cell_type": "code",
      "metadata": {
        "id": "VEPCwANNmJUw",
        "outputId": "b30a3e72-0820-420c-822c-6b98cef56c6a"
      },
      "source": [
        "s"
      ],
      "execution_count": null,
      "outputs": [
        {
          "data": {
            "text/plain": [
              "'Etec MCM é a melhor escola de Ribeirão Pires!'"
            ]
          },
          "execution_count": 29,
          "metadata": {},
          "output_type": "execute_result"
        }
      ]
    },
    {
      "cell_type": "code",
      "metadata": {
        "id": "Vjta7a8dmJUx",
        "outputId": "2a202588-aa37-4014-992b-70e7d4f2cce3"
      },
      "source": [
        "# Upper Case\n",
        "s.upper()"
      ],
      "execution_count": null,
      "outputs": [
        {
          "data": {
            "text/plain": [
              "'ETEC MCM É A MELHOR ESCOLA DE RIBEIRÃO PIRES!'"
            ]
          },
          "execution_count": 30,
          "metadata": {},
          "output_type": "execute_result"
        }
      ]
    },
    {
      "cell_type": "code",
      "metadata": {
        "id": "Ys2QUdWWmJUy",
        "outputId": "cdd0ebdb-245e-42df-b12a-7d9292703b87"
      },
      "source": [
        "# Lower case\n",
        "s.lower()"
      ],
      "execution_count": null,
      "outputs": [
        {
          "data": {
            "text/plain": [
              "'etec mcm é a melhor escola de ribeirão pires!'"
            ]
          },
          "execution_count": 31,
          "metadata": {},
          "output_type": "execute_result"
        }
      ]
    },
    {
      "cell_type": "code",
      "metadata": {
        "id": "O_02hQ-gmJUy",
        "outputId": "b29bd725-7d0c-4027-a64c-2c917dd4e4a9"
      },
      "source": [
        "# Dividir uma string por espaços em branco (padrão)\n",
        "s.split()"
      ],
      "execution_count": null,
      "outputs": [
        {
          "data": {
            "text/plain": [
              "['Etec', 'MCM', 'é', 'a', 'melhor', 'escola', 'de', 'Ribeirão', 'Pires!']"
            ]
          },
          "execution_count": 32,
          "metadata": {},
          "output_type": "execute_result"
        }
      ]
    },
    {
      "cell_type": "code",
      "metadata": {
        "id": "uPGn3aFkmJU0",
        "outputId": "a37f1f58-3491-4e14-c008-ab481c25b9bb"
      },
      "source": [
        "# Dividir uma string por um elemento específico\n",
        "s.split('é')"
      ],
      "execution_count": null,
      "outputs": [
        {
          "data": {
            "text/plain": [
              "['Etec MCM ', ' a melhor escola de Ribeirão Pires!']"
            ]
          },
          "execution_count": 34,
          "metadata": {},
          "output_type": "execute_result"
        }
      ]
    },
    {
      "cell_type": "markdown",
      "metadata": {
        "id": "n6_T7XjOmJU1"
      },
      "source": [
        "### Funções String"
      ]
    },
    {
      "cell_type": "code",
      "metadata": {
        "id": "vEQkj8uFmJU2"
      },
      "source": [
        "s = 'seja bem vindo ao universo de python'"
      ],
      "execution_count": null,
      "outputs": []
    },
    {
      "cell_type": "code",
      "metadata": {
        "id": "MgsSxjL9mJU2",
        "outputId": "aabcb506-8c0b-4bfb-af6e-c9290a96f027"
      },
      "source": [
        "s.capitalize()"
      ],
      "execution_count": null,
      "outputs": [
        {
          "data": {
            "text/plain": [
              "'Seja bem vindo ao universo de python'"
            ]
          },
          "execution_count": 36,
          "metadata": {},
          "output_type": "execute_result"
        }
      ]
    },
    {
      "cell_type": "code",
      "metadata": {
        "id": "WDuICSVamJU3",
        "outputId": "13d31411-6405-4767-ea45-b0eef5001926"
      },
      "source": [
        "s.count('a')"
      ],
      "execution_count": null,
      "outputs": [
        {
          "data": {
            "text/plain": [
              "2"
            ]
          },
          "execution_count": 37,
          "metadata": {},
          "output_type": "execute_result"
        }
      ]
    },
    {
      "cell_type": "code",
      "metadata": {
        "id": "GhnWZV2NmJU4",
        "outputId": "dd89f9fa-720f-4686-d175-cbc270258aa1"
      },
      "source": [
        "s.find('p')"
      ],
      "execution_count": null,
      "outputs": [
        {
          "data": {
            "text/plain": [
              "30"
            ]
          },
          "execution_count": 38,
          "metadata": {},
          "output_type": "execute_result"
        }
      ]
    },
    {
      "cell_type": "code",
      "metadata": {
        "id": "d1hkLfEqmJU4",
        "outputId": "0869bee8-df61-412d-b48d-37d10a767c9f"
      },
      "source": [
        "s.center(20, 'z')"
      ],
      "execution_count": null,
      "outputs": [
        {
          "data": {
            "text/plain": [
              "'seja bem vindo ao universo de python'"
            ]
          },
          "execution_count": 39,
          "metadata": {},
          "output_type": "execute_result"
        }
      ]
    },
    {
      "cell_type": "code",
      "metadata": {
        "id": "Ty7YmZD1mJU5",
        "outputId": "bd10793a-cc6f-4a64-bb3b-7c071301faed"
      },
      "source": [
        "s.isalnum()"
      ],
      "execution_count": null,
      "outputs": [
        {
          "data": {
            "text/plain": [
              "False"
            ]
          },
          "execution_count": 43,
          "metadata": {},
          "output_type": "execute_result"
        }
      ]
    },
    {
      "cell_type": "code",
      "metadata": {
        "id": "yinQ0geSmJU6",
        "outputId": "8e40adfd-1751-41d6-ba22-e574904cf954"
      },
      "source": [
        "s.isalpha()"
      ],
      "execution_count": null,
      "outputs": [
        {
          "data": {
            "text/plain": [
              "False"
            ]
          },
          "execution_count": 44,
          "metadata": {},
          "output_type": "execute_result"
        }
      ]
    },
    {
      "cell_type": "code",
      "metadata": {
        "id": "1Jkf4ft-mJU7",
        "outputId": "6de9725d-9ff5-4364-baaa-ba2766f6c0e2"
      },
      "source": [
        "s.islower()"
      ],
      "execution_count": null,
      "outputs": [
        {
          "data": {
            "text/plain": [
              "True"
            ]
          },
          "execution_count": 45,
          "metadata": {},
          "output_type": "execute_result"
        }
      ]
    },
    {
      "cell_type": "code",
      "metadata": {
        "id": "weg0q6CSmJU-",
        "outputId": "c7a5b7d1-8251-4503-bf63-14937332d743"
      },
      "source": [
        "s.isspace()"
      ],
      "execution_count": null,
      "outputs": [
        {
          "data": {
            "text/plain": [
              "False"
            ]
          },
          "execution_count": 46,
          "metadata": {},
          "output_type": "execute_result"
        }
      ]
    },
    {
      "cell_type": "code",
      "metadata": {
        "id": "zpng7d-QmJU-",
        "outputId": "e6a41d4d-e66a-4b62-9e8e-03475459ddb9"
      },
      "source": [
        "s.endswith('o')"
      ],
      "execution_count": null,
      "outputs": [
        {
          "data": {
            "text/plain": [
              "False"
            ]
          },
          "execution_count": 47,
          "metadata": {},
          "output_type": "execute_result"
        }
      ]
    },
    {
      "cell_type": "code",
      "metadata": {
        "id": "dSsKI-WWmJU_",
        "outputId": "c1f4c1cf-2422-4dee-a2b7-ba22eec8940c"
      },
      "source": [
        "s.partition('!')"
      ],
      "execution_count": null,
      "outputs": [
        {
          "data": {
            "text/plain": [
              "('seja bem vindo ao universo de python', '', '')"
            ]
          },
          "execution_count": 48,
          "metadata": {},
          "output_type": "execute_result"
        }
      ]
    },
    {
      "cell_type": "markdown",
      "metadata": {
        "id": "khN-snprmJVA"
      },
      "source": [
        "### Comparando Strings"
      ]
    },
    {
      "cell_type": "code",
      "metadata": {
        "id": "7LjfVEs5mJVB",
        "outputId": "9f915464-d2da-4e0b-f995-4ebcfe264338"
      },
      "source": [
        "print(\"Python\" == \"R\")"
      ],
      "execution_count": null,
      "outputs": [
        {
          "name": "stdout",
          "output_type": "stream",
          "text": [
            "False\n"
          ]
        }
      ]
    },
    {
      "cell_type": "code",
      "metadata": {
        "id": "esOmAz0VmJVC",
        "outputId": "f3218b10-755d-4cf3-f8b4-6123f0ff744c"
      },
      "source": [
        "print(\"Python\" == \"Python\")"
      ],
      "execution_count": null,
      "outputs": [
        {
          "name": "stdout",
          "output_type": "stream",
          "text": [
            "True\n"
          ]
        }
      ]
    },
    {
      "cell_type": "code",
      "source": [
        "def left(numCaract, texto):\n",
        "    print(texto[:numCaract])\n",
        "\n",
        "palavra = \"Bryan\"\n",
        "left(2,palavra)"
      ],
      "metadata": {
        "colab": {
          "base_uri": "https://localhost:8080/"
        },
        "id": "q1TPefWWJPRu",
        "outputId": "0241bf99-f188-4d59-fc23-13ba8a66232f"
      },
      "execution_count": null,
      "outputs": [
        {
          "output_type": "stream",
          "name": "stdout",
          "text": [
            "Br\n"
          ]
        }
      ]
    },
    {
      "cell_type": "code",
      "source": [
        "def right(numCaract, texto):\n",
        "    print(texto[numCaract])\n",
        "\n",
        "palavra = \"Bryan\"\n",
        "right(-2,palavra)"
      ],
      "metadata": {
        "colab": {
          "base_uri": "https://localhost:8080/"
        },
        "id": "2cOb3koDLtUF",
        "outputId": "171ac2b9-a515-4bc8-9564-4816c597963f"
      },
      "execution_count": null,
      "outputs": [
        {
          "output_type": "stream",
          "name": "stdout",
          "text": [
            "a\n"
          ]
        }
      ]
    }
  ]
}